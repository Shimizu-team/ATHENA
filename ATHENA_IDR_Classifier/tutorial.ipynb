{
 "cells": [
  {
   "cell_type": "markdown",
   "metadata": {},
   "source": [
    "## ATHENA: Residue-Level IDR Classification Tutorial\n",
    "This Google Colab notebook provides a step-by-step guide for running the ATHENA residue-level (per-amino-acid) classifier (ATHENA_IDR_classification.py).\n",
    "\n",
    "This pipeline operates in two main stages:\n",
    "\n",
    "1. **Embedding Generation:** It uses an ESM model (e.g., esmc_300m) to generate per-residue embeddings for each protein in your FASTA file.\n",
    "\n",
    "2. **IDR Prediction:** It feeds these embeddings into the trained Bi-LSTM + Transformer model to predict a disorder score and label for every single residue.\n",
    "\n",
    "### Expected Runtime\n",
    "\n",
    "**Anywhere from 1-10 minutes**, depending on the number of sequences to be classified.\n",
    "\n",
    "### Step 1: Clone Repository and Set Up Environment\n",
    "First, we will clone the ATHENA GitHub repository, move into the new directory, and install the required Python libraries. This includes the esm library, which is required for generating protein embeddings."
   ]
  },
  {
   "cell_type": "code",
   "execution_count": 16,
   "metadata": {},
   "outputs": [
    {
     "name": "stderr",
     "output_type": "stream",
     "text": [
      "huggingface/tokenizers: The current process just got forked, after parallelism has already been used. Disabling parallelism to avoid deadlocks...\n",
      "To disable this warning, you can either:\n",
      "\t- Avoid using `tokenizers` before the fork if possible\n",
      "\t- Explicitly set the environment variable TOKENIZERS_PARALLELISM=(true | false)\n"
     ]
    },
    {
     "name": "stdout",
     "output_type": "stream",
     "text": [
      "Cloning into 'ATHENA'...\n",
      "remote: Enumerating objects: 4, done.\u001b[K\n",
      "remote: Total 4 (delta 0), reused 0 (delta 0), pack-reused 4 (from 1)\u001b[K\n",
      "Receiving objects: 100% (4/4), done.\n",
      "/Users/koheiota/Desktop/251028_ATHENA/ATHENA_IDR_Classifier/ATHENA\n"
     ]
    },
    {
     "name": "stderr",
     "output_type": "stream",
     "text": [
      "huggingface/tokenizers: The current process just got forked, after parallelism has already been used. Disabling parallelism to avoid deadlocks...\n",
      "To disable this warning, you can either:\n",
      "\t- Avoid using `tokenizers` before the fork if possible\n",
      "\t- Explicitly set the environment variable TOKENIZERS_PARALLELISM=(true | false)\n"
     ]
    },
    {
     "name": "stdout",
     "output_type": "stream",
     "text": [
      "Requirement already satisfied: torch in /Users/koheiota/anaconda3/envs/Tardigrada/lib/python3.11/site-packages (2.2.2)\n",
      "Requirement already satisfied: pandas in /Users/koheiota/anaconda3/envs/Tardigrada/lib/python3.11/site-packages (1.5.3)\n",
      "Requirement already satisfied: esm in /Users/koheiota/anaconda3/envs/Tardigrada/lib/python3.11/site-packages (3.2.1.post1)\n",
      "Requirement already satisfied: httpx in /Users/koheiota/anaconda3/envs/Tardigrada/lib/python3.11/site-packages (0.28.1)\n",
      "Requirement already satisfied: tabulate in /Users/koheiota/anaconda3/envs/Tardigrada/lib/python3.11/site-packages (0.9.0)\n",
      "Requirement already satisfied: filelock in /Users/koheiota/anaconda3/envs/Tardigrada/lib/python3.11/site-packages (from torch) (3.20.0)\n",
      "Requirement already satisfied: typing-extensions>=4.8.0 in /Users/koheiota/anaconda3/envs/Tardigrada/lib/python3.11/site-packages (from torch) (4.15.0)\n",
      "Requirement already satisfied: sympy in /Users/koheiota/anaconda3/envs/Tardigrada/lib/python3.11/site-packages (from torch) (1.14.0)\n",
      "Requirement already satisfied: networkx in /Users/koheiota/anaconda3/envs/Tardigrada/lib/python3.11/site-packages (from torch) (3.2.1)\n",
      "Requirement already satisfied: jinja2 in /Users/koheiota/anaconda3/envs/Tardigrada/lib/python3.11/site-packages (from torch) (3.1.6)\n",
      "Requirement already satisfied: fsspec in /Users/koheiota/anaconda3/envs/Tardigrada/lib/python3.11/site-packages (from torch) (2025.9.0)\n",
      "Requirement already satisfied: python-dateutil>=2.8.1 in /Users/koheiota/anaconda3/envs/Tardigrada/lib/python3.11/site-packages (from pandas) (2.9.0.post0)\n",
      "Requirement already satisfied: pytz>=2020.1 in /Users/koheiota/anaconda3/envs/Tardigrada/lib/python3.11/site-packages (from pandas) (2024.1)\n",
      "Requirement already satisfied: numpy>=1.21.0 in /Users/koheiota/anaconda3/envs/Tardigrada/lib/python3.11/site-packages (from pandas) (1.26.4)\n",
      "Requirement already satisfied: torchvision in /Users/koheiota/anaconda3/envs/Tardigrada/lib/python3.11/site-packages (from esm) (0.17.2)\n",
      "Requirement already satisfied: torchtext in /Users/koheiota/anaconda3/envs/Tardigrada/lib/python3.11/site-packages (from esm) (0.17.2)\n",
      "Requirement already satisfied: transformers<4.48.2 in /Users/koheiota/anaconda3/envs/Tardigrada/lib/python3.11/site-packages (from esm) (4.48.1)\n",
      "Requirement already satisfied: ipython in /Users/koheiota/anaconda3/envs/Tardigrada/lib/python3.11/site-packages (from esm) (9.5.0)\n",
      "Requirement already satisfied: einops in /Users/koheiota/anaconda3/envs/Tardigrada/lib/python3.11/site-packages (from esm) (0.8.1)\n",
      "Requirement already satisfied: biotite>=1.0.0 in /Users/koheiota/anaconda3/envs/Tardigrada/lib/python3.11/site-packages (from esm) (1.5.0)\n",
      "Requirement already satisfied: msgpack-numpy in /Users/koheiota/anaconda3/envs/Tardigrada/lib/python3.11/site-packages (from esm) (0.4.8)\n",
      "Requirement already satisfied: biopython in /Users/koheiota/anaconda3/envs/Tardigrada/lib/python3.11/site-packages (from esm) (1.85)\n",
      "Requirement already satisfied: scikit-learn in /Users/koheiota/anaconda3/envs/Tardigrada/lib/python3.11/site-packages (from esm) (1.7.2)\n",
      "Requirement already satisfied: brotli in /Users/koheiota/anaconda3/envs/Tardigrada/lib/python3.11/site-packages (from esm) (1.0.9)\n",
      "Requirement already satisfied: attrs in /Users/koheiota/anaconda3/envs/Tardigrada/lib/python3.11/site-packages (from esm) (25.4.0)\n",
      "Requirement already satisfied: cloudpathlib in /Users/koheiota/anaconda3/envs/Tardigrada/lib/python3.11/site-packages (from esm) (0.23.0)\n",
      "Requirement already satisfied: tenacity in /Users/koheiota/anaconda3/envs/Tardigrada/lib/python3.11/site-packages (from esm) (9.1.2)\n",
      "Requirement already satisfied: zstd in /Users/koheiota/anaconda3/envs/Tardigrada/lib/python3.11/site-packages (from esm) (1.5.7.2)\n",
      "Requirement already satisfied: anyio in /Users/koheiota/anaconda3/envs/Tardigrada/lib/python3.11/site-packages (from httpx) (4.11.0)\n",
      "Requirement already satisfied: certifi in /Users/koheiota/anaconda3/envs/Tardigrada/lib/python3.11/site-packages (from httpx) (2025.8.3)\n",
      "Requirement already satisfied: httpcore==1.* in /Users/koheiota/anaconda3/envs/Tardigrada/lib/python3.11/site-packages (from httpx) (1.0.9)\n",
      "Requirement already satisfied: idna in /Users/koheiota/anaconda3/envs/Tardigrada/lib/python3.11/site-packages (from httpx) (3.7)\n",
      "Requirement already satisfied: h11>=0.16 in /Users/koheiota/anaconda3/envs/Tardigrada/lib/python3.11/site-packages (from httpcore==1.*->httpx) (0.16.0)\n",
      "Requirement already satisfied: biotraj<2.0,>=1.0 in /Users/koheiota/anaconda3/envs/Tardigrada/lib/python3.11/site-packages (from biotite>=1.0.0->esm) (1.2.2)\n",
      "Requirement already satisfied: msgpack>=0.5.6 in /Users/koheiota/anaconda3/envs/Tardigrada/lib/python3.11/site-packages (from biotite>=1.0.0->esm) (1.1.2)\n",
      "Requirement already satisfied: packaging>=24.0 in /Users/koheiota/anaconda3/envs/Tardigrada/lib/python3.11/site-packages (from biotite>=1.0.0->esm) (24.2)\n",
      "Requirement already satisfied: requests>=2.12 in /Users/koheiota/anaconda3/envs/Tardigrada/lib/python3.11/site-packages (from biotite>=1.0.0->esm) (2.32.3)\n",
      "Requirement already satisfied: six>=1.5 in /Users/koheiota/anaconda3/envs/Tardigrada/lib/python3.11/site-packages (from python-dateutil>=2.8.1->pandas) (1.16.0)\n",
      "Requirement already satisfied: huggingface-hub<1.0,>=0.24.0 in /Users/koheiota/anaconda3/envs/Tardigrada/lib/python3.11/site-packages (from transformers<4.48.2->esm) (0.36.0)\n",
      "Requirement already satisfied: pyyaml>=5.1 in /Users/koheiota/anaconda3/envs/Tardigrada/lib/python3.11/site-packages (from transformers<4.48.2->esm) (6.0.2)\n",
      "Requirement already satisfied: regex!=2019.12.17 in /Users/koheiota/anaconda3/envs/Tardigrada/lib/python3.11/site-packages (from transformers<4.48.2->esm) (2025.10.23)\n",
      "Requirement already satisfied: tokenizers<0.22,>=0.21 in /Users/koheiota/anaconda3/envs/Tardigrada/lib/python3.11/site-packages (from transformers<4.48.2->esm) (0.21.4)\n",
      "Requirement already satisfied: safetensors>=0.4.1 in /Users/koheiota/anaconda3/envs/Tardigrada/lib/python3.11/site-packages (from transformers<4.48.2->esm) (0.6.2)\n",
      "Requirement already satisfied: tqdm>=4.27 in /Users/koheiota/anaconda3/envs/Tardigrada/lib/python3.11/site-packages (from transformers<4.48.2->esm) (4.67.1)\n",
      "Requirement already satisfied: sniffio>=1.1 in /Users/koheiota/anaconda3/envs/Tardigrada/lib/python3.11/site-packages (from anyio->httpx) (1.3.1)\n",
      "Requirement already satisfied: decorator in /Users/koheiota/anaconda3/envs/Tardigrada/lib/python3.11/site-packages (from ipython->esm) (5.2.1)\n",
      "Requirement already satisfied: ipython-pygments-lexers in /Users/koheiota/anaconda3/envs/Tardigrada/lib/python3.11/site-packages (from ipython->esm) (1.1.1)\n",
      "Requirement already satisfied: jedi>=0.16 in /Users/koheiota/anaconda3/envs/Tardigrada/lib/python3.11/site-packages (from ipython->esm) (0.19.2)\n",
      "Requirement already satisfied: matplotlib-inline in /Users/koheiota/anaconda3/envs/Tardigrada/lib/python3.11/site-packages (from ipython->esm) (0.1.7)\n",
      "Requirement already satisfied: pexpect>4.3 in /Users/koheiota/anaconda3/envs/Tardigrada/lib/python3.11/site-packages (from ipython->esm) (4.9.0)\n",
      "Requirement already satisfied: prompt_toolkit<3.1.0,>=3.0.41 in /Users/koheiota/anaconda3/envs/Tardigrada/lib/python3.11/site-packages (from ipython->esm) (3.0.52)\n",
      "Requirement already satisfied: pygments>=2.4.0 in /Users/koheiota/anaconda3/envs/Tardigrada/lib/python3.11/site-packages (from ipython->esm) (2.19.2)\n",
      "Requirement already satisfied: stack_data in /Users/koheiota/anaconda3/envs/Tardigrada/lib/python3.11/site-packages (from ipython->esm) (0.6.3)\n",
      "Requirement already satisfied: traitlets>=5.13.0 in /Users/koheiota/anaconda3/envs/Tardigrada/lib/python3.11/site-packages (from ipython->esm) (5.14.3)\n",
      "Requirement already satisfied: MarkupSafe>=2.0 in /Users/koheiota/anaconda3/envs/Tardigrada/lib/python3.11/site-packages (from jinja2->torch) (3.0.3)\n",
      "Requirement already satisfied: scipy>=1.8.0 in /Users/koheiota/anaconda3/envs/Tardigrada/lib/python3.11/site-packages (from scikit-learn->esm) (1.16.2)\n",
      "Requirement already satisfied: joblib>=1.2.0 in /Users/koheiota/anaconda3/envs/Tardigrada/lib/python3.11/site-packages (from scikit-learn->esm) (1.5.2)\n",
      "Requirement already satisfied: threadpoolctl>=3.1.0 in /Users/koheiota/anaconda3/envs/Tardigrada/lib/python3.11/site-packages (from scikit-learn->esm) (3.6.0)\n",
      "Requirement already satisfied: mpmath<1.4,>=1.1.0 in /Users/koheiota/anaconda3/envs/Tardigrada/lib/python3.11/site-packages (from sympy->torch) (1.3.0)\n",
      "Requirement already satisfied: pillow!=8.3.*,>=5.3.0 in /Users/koheiota/anaconda3/envs/Tardigrada/lib/python3.11/site-packages (from torchvision->esm) (11.1.0)\n",
      "Requirement already satisfied: hf-xet<2.0.0,>=1.1.3 in /Users/koheiota/anaconda3/envs/Tardigrada/lib/python3.11/site-packages (from huggingface-hub<1.0,>=0.24.0->transformers<4.48.2->esm) (1.2.0)\n",
      "Requirement already satisfied: parso<0.9.0,>=0.8.4 in /Users/koheiota/anaconda3/envs/Tardigrada/lib/python3.11/site-packages (from jedi>=0.16->ipython->esm) (0.8.5)\n",
      "Requirement already satisfied: ptyprocess>=0.5 in /Users/koheiota/anaconda3/envs/Tardigrada/lib/python3.11/site-packages (from pexpect>4.3->ipython->esm) (0.7.0)\n",
      "Requirement already satisfied: wcwidth in /Users/koheiota/anaconda3/envs/Tardigrada/lib/python3.11/site-packages (from prompt_toolkit<3.1.0,>=3.0.41->ipython->esm) (0.2.13)\n",
      "Requirement already satisfied: charset_normalizer<4,>=2 in /Users/koheiota/anaconda3/envs/Tardigrada/lib/python3.11/site-packages (from requests>=2.12->biotite>=1.0.0->esm) (3.3.2)\n",
      "Requirement already satisfied: urllib3<3,>=1.21.1 in /Users/koheiota/anaconda3/envs/Tardigrada/lib/python3.11/site-packages (from requests>=2.12->biotite>=1.0.0->esm) (2.3.0)\n",
      "Requirement already satisfied: executing>=1.2.0 in /Users/koheiota/anaconda3/envs/Tardigrada/lib/python3.11/site-packages (from stack_data->ipython->esm) (2.2.1)\n",
      "Requirement already satisfied: asttokens>=2.1.0 in /Users/koheiota/anaconda3/envs/Tardigrada/lib/python3.11/site-packages (from stack_data->ipython->esm) (3.0.0)\n",
      "Requirement already satisfied: pure_eval in /Users/koheiota/anaconda3/envs/Tardigrada/lib/python3.11/site-packages (from stack_data->ipython->esm) (0.2.3)\n"
     ]
    }
   ],
   "source": [
    "# 1. Clone the Repository\n",
    "\n",
    "!git clone https://github.com/Shimizu-team/ATHENA\n",
    "%cd ATHENA\n",
    "\n",
    "# 2. Install Dependencies\n",
    "!pip install torch pandas esm httpx tabulate\n"
   ]
  },
  {
   "cell_type": "markdown",
   "metadata": {},
   "source": [
    "### Step 2: Prepare Python Scripts\n",
    "The main script ATHENA_IDR_classification.py imports the model architecture from a file named Transformer_LSTM.py. The repository contains this model in ATHENA_IDR_Model.py.\n",
    "\n",
    "We rename this file before we import the modules."
   ]
  },
  {
   "cell_type": "code",
   "execution_count": 2,
   "metadata": {},
   "outputs": [
    {
     "name": "stdout",
     "output_type": "stream",
     "text": [
      "✅ Renamed 'ATHENA_IDR_Model.py' to 'Transformer_LSTM.py' for import.\n"
     ]
    }
   ],
   "source": [
    "# Rename Model Script for Import\n",
    "import os\n",
    "\n",
    "model_source = \"ATHENA_IDR_Model.py\"\n",
    "model_target = \"Transformer_LSTM.py\"\n",
    "\n",
    "if os.path.exists(model_source):\n",
    "    !mv {model_source} {model_target}\n",
    "    print(f\"Renamed '{model_source}' to '{model_target}' for import.\")\n",
    "else:\n",
    "    print(f\"Could not find '{model_source}'. Did the git clone fail or was the file misnamed?\")\n",
    "    "
   ]
  },
  {
   "cell_type": "markdown",
   "metadata": {},
   "source": [
    "### Step 3: Import Libraries\n",
    "We import the necessary modules."
   ]
  },
  {
   "cell_type": "code",
   "execution_count": 9,
   "metadata": {},
   "outputs": [
    {
     "name": "stdout",
     "output_type": "stream",
     "text": [
      "✅ Core modules imported successfully.\n"
     ]
    }
   ],
   "source": [
    "# Import Libraries\n",
    "import os\n",
    "import sys\n",
    "import torch\n",
    "import pandas as pd\n",
    "import argparse\n",
    "\n",
    "# Import the main function\n",
    "try:\n",
    "    # We rename the import for clarity\n",
    "    from ATHENA_IDR_classification import main as run_idr_prediction\n",
    "except ImportError as e:\n",
    "    print(f\"⚠️ Error importing modules: {e}\")\n",
    "    print(\"Please ensure 'Transformer_LSTM.py' (renamed from 'ATHENA_IDR_Model.py') is present.\")\n",
    "\n",
    "print(\"✅ Core modules imported successfully.\")"
   ]
  },
  {
   "cell_type": "markdown",
   "metadata": {},
   "source": [
    "### Step 4: Prepare Model Parameters\n",
    "Now we will unzip the model weights.\n"
   ]
  },
  {
   "cell_type": "code",
   "execution_count": 10,
   "metadata": {},
   "outputs": [
    {
     "name": "stdout",
     "output_type": "stream",
     "text": [
      "Attempting to unzip 'ATHENA_IDR_model_params/ATHENA_IDR_Weights.pt.zip' into its parent directory 'ATHENA_IDR_model_params'...\n",
      "\n",
      "Extracting 'ATHENA_IDR_model_params/ATHENA_IDR_Weights.pt.zip'...\n",
      "Unzip command finished. Files extracted to 'ATHENA_IDR_model_params'.\n"
     ]
    }
   ],
   "source": [
    "# Define the directory and the zip file\n",
    "model_dir = \"ATHENA_IDR_model_params\"\n",
    "zip_filename = \"ATHENA_IDR_Weights.pt.zip\"\n",
    "zip_filepath = os.path.join(model_dir, zip_filename)\n",
    "\n",
    "print(f\"Attempting to unzip '{zip_filepath}' into its parent directory '{model_dir}'...\")\n",
    "\n",
    "# Check if the zip file exists at the specified path\n",
    "if not os.path.isfile(zip_filepath):\n",
    "    print(f\"\\n⚠️ Error: File not found at '{zip_filepath}'.\")\n",
    "    print(\"Please ensure the GitHub repository was cloned correctly and this file exists.\")\n",
    "else:\n",
    "    print(f\"\\nExtracting '{zip_filepath}'...\")\n",
    "    \n",
    "    !unzip -q -o \"{zip_filepath}\" -d \"{model_dir}\"\n",
    "    \n",
    "    print(f\"Unzip command finished. Files extracted to '{model_dir}'.\")\n",
    "    "
   ]
  },
  {
   "cell_type": "markdown",
   "metadata": {},
   "source": [
    "### Step 5: Define Run Configuration\n",
    "The original `ATHENA_IDR_classification.py` script is designed to be run from the command line. We define the run configurations here. \n",
    "\n",
    "We designate the input fasta file using the --fasta_file config."
   ]
  },
  {
   "cell_type": "code",
   "execution_count": 11,
   "metadata": {},
   "outputs": [
    {
     "name": "stdout",
     "output_type": "stream",
     "text": [
      "--- Running Configuration ---\n",
      "ATHENA_IDR_classification.py --fasta_file input/example_sequences.fasta --idr_model_path ATHENA_IDR_model_params/ATHENA_IDR_Weights.pt --output_csv output/IDR_predictions.csv --esm_model_name esmc_300m --batch_size 8\n",
      "-----------------------------\n"
     ]
    }
   ],
   "source": [
    "# Colab Cell 6: Define Configuration (via sys.argv)\n",
    "import sys\n",
    "\n",
    "# These arguments match the 'README' and the script defaults\n",
    "args_list = [\n",
    "    'ATHENA_IDR_classification.py',\n",
    "    \n",
    "    '--fasta_file',\n",
    "    'input/example_sequences.fasta',\n",
    "    \n",
    "    '--idr_model_path',\n",
    "    'ATHENA_IDR_model_params/ATHENA_IDR_Weights.pt', \n",
    "    \n",
    "    '--output_csv',\n",
    "    'output/IDR_predictions.csv',\n",
    "    \n",
    "    '--esm_model_name',\n",
    "    'esmc_300m', \n",
    "    \n",
    "    '--batch_size',\n",
    "    '8'\n",
    "]\n",
    "\n",
    "# Set sys.argv\n",
    "sys.argv = args_list\n",
    "\n",
    "print(\"--- Running Configuration ---\")\n",
    "print(\" \".join(args_list))\n",
    "print(\"-----------------------------\")"
   ]
  },
  {
   "cell_type": "markdown",
   "metadata": {},
   "source": [
    "### Step 6: Run Prediction \n",
    "With all configuration set, we can now call the main function from the script. This will execute the full pipeline."
   ]
  },
  {
   "cell_type": "code",
   "execution_count": 12,
   "metadata": {},
   "outputs": [
    {
     "name": "stdout",
     "output_type": "stream",
     "text": [
      "--- Starting End-to-End IDR Prediction ---\n",
      "STEP 1: Generating Protein Embeddings (this may take time)...\n",
      "Using device: cpu\n",
      "Start time: 2025-10-28T12:09:13.501583\n",
      "\n",
      "--- STEP 1: Generating Protein Embeddings ---\n",
      "▶ Loading FASTA file...\n",
      "Loaded 3 sequences.\n",
      "Loading local ESM model: esmc_300m\n"
     ]
    },
    {
     "name": "stderr",
     "output_type": "stream",
     "text": [
      "Fetching 4 files: 100%|██████████| 4/4 [00:28<00:00,  7.04s/it]\n"
     ]
    },
    {
     "name": "stdout",
     "output_type": "stream",
     "text": [
      "▶ Warming up model...\n",
      "▶ Warm-up complete\n",
      "Processing batch 1/1: Proteins 0 to 2\n"
     ]
    },
    {
     "name": "stderr",
     "output_type": "stream",
     "text": [
      "Processing  100%|████████████████████████| 3/3 [Elapsed: 00:02 | Remaining: 00:00] , Success=3 Fail=0 Retry=0\n"
     ]
    },
    {
     "name": "stdout",
     "output_type": "stream",
     "text": [
      "Batch stats: 3 successful, 0 failed\n",
      "\n",
      "Embedding generation complete.\n",
      "Successfully processed 3/3 proteins.\n",
      "\n",
      "--- STEP 2: Loading IDR Prediction Model ---\n",
      "Successfully loaded model from ATHENA_IDR_model_params/ATHENA_IDR_Weights.pt\n",
      "\n",
      "--- STEP 3: Running IDR Prediction ---\n",
      "--- Inference Complete ---\n",
      "Created directory: output\n",
      "\n",
      "--- STEP 4: Results Saved ---\n",
      "Inference results for 3 proteins saved to 'output/IDR_predictions.csv'\n",
      "End time: 2025-10-28T12:09:50.569750\n",
      "\n",
      "--- Pipeline Complete ---\n"
     ]
    }
   ],
   "source": [
    "# Colab Cell 7: Execute Prediction\n",
    "print(\"Starting End-to-End IDR Prediction\")\n",
    "print(\"STEP 1: Generating Protein Embeddings (this may take time)...\")\n",
    "\n",
    "try:\n",
    "    # Call the main function we imported\n",
    "    run_idr_prediction()\n",
    "    print(\"\\nPipeline Complete\")\n",
    "\n",
    "except ImportError:\n",
    "    print(\"Error: 'EnhancedLSTMTransformerIDRPredictor' not found.\")\n",
    "    print(\"Please ensure Step 2 (renaming the .py file) completed successfully.\")"
   ]
  },
  {
   "cell_type": "markdown",
   "metadata": {},
   "source": [
    "### Step 7 Review and Interpret Results\n",
    "The script saves all predictions to a single CSV file. We load it with pandas to see the results.\n",
    "\n",
    "The output contains one row for every amino acid in your input file."
   ]
  },
  {
   "cell_type": "code",
   "execution_count": 15,
   "metadata": {},
   "outputs": [
    {
     "name": "stdout",
     "output_type": "stream",
     "text": [
      "Loading results from 'output/IDR_predictions.csv'...\n",
      "\n",
      "Total residues predicted: 419\n",
      "\n",
      "--- First 20 Residue Predictions ---\n",
      "| Protein ID   |   Residue Index |   Predicted Label |   Disordered Probability |\n",
      "|:-------------|----------------:|------------------:|-------------------------:|\n",
      "| P12345       |               0 |                 0 |                   0.2416 |\n",
      "| P12345       |               1 |                 0 |                   0.2253 |\n",
      "| P12345       |               2 |                 0 |                   0.1976 |\n",
      "| P12345       |               3 |                 0 |                   0.1923 |\n",
      "| P12345       |               4 |                 0 |                   0.185  |\n",
      "| P12345       |               5 |                 0 |                   0.1789 |\n",
      "| P12345       |               6 |                 0 |                   0.1776 |\n",
      "| P12345       |               7 |                 0 |                   0.175  |\n",
      "| P12345       |               8 |                 0 |                   0.1768 |\n",
      "| P12345       |               9 |                 0 |                   0.18   |\n",
      "| P12345       |              10 |                 0 |                   0.1849 |\n",
      "| P12345       |              11 |                 0 |                   0.1843 |\n",
      "| P12345       |              12 |                 0 |                   0.1872 |\n",
      "| P12345       |              13 |                 0 |                   0.1811 |\n",
      "| P12345       |              14 |                 0 |                   0.188  |\n",
      "| P12345       |              15 |                 0 |                   0.1905 |\n",
      "| P12345       |              16 |                 0 |                   0.1929 |\n",
      "| P12345       |              17 |                 0 |                   0.1934 |\n",
      "| P12345       |              18 |                 0 |                   0.1903 |\n",
      "| P12345       |              19 |                 0 |                   0.1993 |\n",
      "\n",
      "--- Predictions for 'protein_sample_02' ---\n",
      "| Protein ID        |   Residue Index |   Predicted Label |   Disordered Probability |\n",
      "|:------------------|----------------:|------------------:|-------------------------:|\n",
      "| protein_sample_02 |               0 |                 0 |                   0.4697 |\n",
      "| protein_sample_02 |               1 |                 0 |                   0.4765 |\n",
      "| protein_sample_02 |               2 |                 0 |                   0.4827 |\n",
      "| protein_sample_02 |               3 |                 0 |                   0.4727 |\n",
      "| protein_sample_02 |               4 |                 0 |                   0.4876 |\n",
      "| protein_sample_02 |               5 |                 0 |                   0.4889 |\n",
      "| protein_sample_02 |               6 |                 0 |                   0.4889 |\n",
      "| protein_sample_02 |               7 |                 0 |                   0.4741 |\n",
      "| protein_sample_02 |               8 |                 0 |                   0.4634 |\n",
      "| protein_sample_02 |               9 |                 0 |                   0.4793 |\n",
      "| protein_sample_02 |              10 |                 0 |                   0.4653 |\n",
      "| protein_sample_02 |              11 |                 0 |                   0.4535 |\n",
      "| protein_sample_02 |              12 |                 0 |                   0.4412 |\n",
      "| protein_sample_02 |              13 |                 0 |                   0.4564 |\n",
      "| protein_sample_02 |              14 |                 0 |                   0.4357 |\n",
      "| protein_sample_02 |              15 |                 0 |                   0.4492 |\n",
      "| protein_sample_02 |              16 |                 0 |                   0.4582 |\n",
      "| protein_sample_02 |              17 |                 0 |                   0.4649 |\n",
      "| protein_sample_02 |              18 |                 0 |                   0.4609 |\n",
      "| protein_sample_02 |              19 |                 0 |                   0.4904 |\n"
     ]
    }
   ],
   "source": [
    "# Colab Cell 8: Load and Display Results\n",
    "import pandas as pd\n",
    "import os\n",
    "\n",
    "output_file = 'output/IDR_predictions.csv'\n",
    "\n",
    "if os.path.exists(output_file):\n",
    "    print(f\"Loading results from '{output_file}'...\")\n",
    "    \n",
    "    df = pd.read_csv(output_file)\n",
    "    \n",
    "    print(f\"\\nTotal residues predicted: {len(df)}\")\n",
    "    \n",
    "    # Display the first 20 predictions\n",
    "    print(\"\\n--- First 20 Residue Predictions ---\")\n",
    "    print(df.head(20).to_markdown(index=False))\n",
    "    \n",
    "    # Display predictions for the start of the second protein\n",
    "    print(\"\\n--- Predictions for 'protein_sample_02' ---\")\n",
    "    print(df[df['Protein ID'] == 'protein_sample_02'].head(20).to_markdown(index=False))\n",
    "\n",
    "else:\n",
    "    print(f\"⚠️ Output file '{output_file}' not found.\")\n",
    "    print(\"Please ensure Step 7 completed without errors.\")"
   ]
  },
  {
   "cell_type": "code",
   "execution_count": null,
   "metadata": {},
   "outputs": [],
   "source": []
  }
 ],
 "metadata": {
  "kernelspec": {
   "display_name": "Tardigrada",
   "language": "python",
   "name": "python3"
  },
  "language_info": {
   "codemirror_mode": {
    "name": "ipython",
    "version": 3
   },
   "file_extension": ".py",
   "mimetype": "text/x-python",
   "name": "python",
   "nbconvert_exporter": "python",
   "pygments_lexer": "ipython3",
   "version": "3.11.11"
  }
 },
 "nbformat": 4,
 "nbformat_minor": 2
}
